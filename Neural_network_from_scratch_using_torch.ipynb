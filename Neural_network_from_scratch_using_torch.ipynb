{
 "cells": [
  {
   "cell_type": "code",
   "execution_count": 1,
   "metadata": {},
   "outputs": [],
   "source": [
    "import numpy as np\n",
    "import pandas as pd\n",
    "import seaborn as sns"
   ]
  },
  {
   "cell_type": "code",
   "execution_count": 2,
   "metadata": {},
   "outputs": [
    {
     "data": {
      "text/html": [
       "<div>\n",
       "<style scoped>\n",
       "    .dataframe tbody tr th:only-of-type {\n",
       "        vertical-align: middle;\n",
       "    }\n",
       "\n",
       "    .dataframe tbody tr th {\n",
       "        vertical-align: top;\n",
       "    }\n",
       "\n",
       "    .dataframe thead th {\n",
       "        text-align: right;\n",
       "    }\n",
       "</style>\n",
       "<table border=\"1\" class=\"dataframe\">\n",
       "  <thead>\n",
       "    <tr style=\"text-align: right;\">\n",
       "      <th></th>\n",
       "      <th>age</th>\n",
       "      <th>sex</th>\n",
       "      <th>cp</th>\n",
       "      <th>trtbps</th>\n",
       "      <th>chol</th>\n",
       "      <th>fbs</th>\n",
       "      <th>restecg</th>\n",
       "      <th>thalachh</th>\n",
       "      <th>exng</th>\n",
       "      <th>oldpeak</th>\n",
       "      <th>slp</th>\n",
       "      <th>caa</th>\n",
       "      <th>thall</th>\n",
       "      <th>output</th>\n",
       "    </tr>\n",
       "  </thead>\n",
       "  <tbody>\n",
       "    <tr>\n",
       "      <th>0</th>\n",
       "      <td>63</td>\n",
       "      <td>1</td>\n",
       "      <td>3</td>\n",
       "      <td>145</td>\n",
       "      <td>233</td>\n",
       "      <td>1</td>\n",
       "      <td>0</td>\n",
       "      <td>150</td>\n",
       "      <td>0</td>\n",
       "      <td>2.3</td>\n",
       "      <td>0</td>\n",
       "      <td>0</td>\n",
       "      <td>1</td>\n",
       "      <td>1</td>\n",
       "    </tr>\n",
       "    <tr>\n",
       "      <th>1</th>\n",
       "      <td>37</td>\n",
       "      <td>1</td>\n",
       "      <td>2</td>\n",
       "      <td>130</td>\n",
       "      <td>250</td>\n",
       "      <td>0</td>\n",
       "      <td>1</td>\n",
       "      <td>187</td>\n",
       "      <td>0</td>\n",
       "      <td>3.5</td>\n",
       "      <td>0</td>\n",
       "      <td>0</td>\n",
       "      <td>2</td>\n",
       "      <td>1</td>\n",
       "    </tr>\n",
       "    <tr>\n",
       "      <th>2</th>\n",
       "      <td>41</td>\n",
       "      <td>0</td>\n",
       "      <td>1</td>\n",
       "      <td>130</td>\n",
       "      <td>204</td>\n",
       "      <td>0</td>\n",
       "      <td>0</td>\n",
       "      <td>172</td>\n",
       "      <td>0</td>\n",
       "      <td>1.4</td>\n",
       "      <td>2</td>\n",
       "      <td>0</td>\n",
       "      <td>2</td>\n",
       "      <td>1</td>\n",
       "    </tr>\n",
       "    <tr>\n",
       "      <th>3</th>\n",
       "      <td>56</td>\n",
       "      <td>1</td>\n",
       "      <td>1</td>\n",
       "      <td>120</td>\n",
       "      <td>236</td>\n",
       "      <td>0</td>\n",
       "      <td>1</td>\n",
       "      <td>178</td>\n",
       "      <td>0</td>\n",
       "      <td>0.8</td>\n",
       "      <td>2</td>\n",
       "      <td>0</td>\n",
       "      <td>2</td>\n",
       "      <td>1</td>\n",
       "    </tr>\n",
       "    <tr>\n",
       "      <th>4</th>\n",
       "      <td>57</td>\n",
       "      <td>0</td>\n",
       "      <td>0</td>\n",
       "      <td>120</td>\n",
       "      <td>354</td>\n",
       "      <td>0</td>\n",
       "      <td>1</td>\n",
       "      <td>163</td>\n",
       "      <td>1</td>\n",
       "      <td>0.6</td>\n",
       "      <td>2</td>\n",
       "      <td>0</td>\n",
       "      <td>2</td>\n",
       "      <td>1</td>\n",
       "    </tr>\n",
       "  </tbody>\n",
       "</table>\n",
       "</div>"
      ],
      "text/plain": [
       "   age  sex  cp  trtbps  chol  fbs  restecg  thalachh  exng  oldpeak  slp  \\\n",
       "0   63    1   3     145   233    1        0       150     0      2.3    0   \n",
       "1   37    1   2     130   250    0        1       187     0      3.5    0   \n",
       "2   41    0   1     130   204    0        0       172     0      1.4    2   \n",
       "3   56    1   1     120   236    0        1       178     0      0.8    2   \n",
       "4   57    0   0     120   354    0        1       163     1      0.6    2   \n",
       "\n",
       "   caa  thall  output  \n",
       "0    0      1       1  \n",
       "1    0      2       1  \n",
       "2    0      2       1  \n",
       "3    0      2       1  \n",
       "4    0      2       1  "
      ]
     },
     "execution_count": 2,
     "metadata": {},
     "output_type": "execute_result"
    }
   ],
   "source": [
    "df = pd.read_csv('heart.csv')\n",
    "df.head()"
   ]
  },
  {
   "cell_type": "code",
   "execution_count": 3,
   "metadata": {},
   "outputs": [
    {
     "data": {
      "text/plain": [
       "((303, 13), (303,))"
      ]
     },
     "execution_count": 3,
     "metadata": {},
     "output_type": "execute_result"
    }
   ],
   "source": [
    "x = np.array(df.loc[:, df.columns != 'output'])\n",
    "y = np.array(df['output'])\n",
    "x.shape, y.shape"
   ]
  },
  {
   "cell_type": "code",
   "execution_count": 4,
   "metadata": {},
   "outputs": [],
   "source": [
    "from sklearn.model_selection import train_test_split\n",
    "x_train, x_test, y_train, y_test = train_test_split(x, y, test_size=0.2, random_state=42)"
   ]
  },
  {
   "cell_type": "code",
   "execution_count": 5,
   "metadata": {},
   "outputs": [],
   "source": [
    "from sklearn.preprocessing import StandardScaler\n",
    "scaler = StandardScaler()\n",
    "x_tr = scaler.fit_transform(x_train)\n",
    "x_te = scaler.fit_transform(x_test)"
   ]
  },
  {
   "cell_type": "code",
   "execution_count": 6,
   "metadata": {},
   "outputs": [],
   "source": [
    "class NeuralNetworkFromScratch:\n",
    "    def __init__(self, lr, x_train, y_train, x_test, y_test):  # initail constructor for the class where weights, bias, learning rate, x_train, y_train, x_test, y_test, train_loss and test_loss are initialized\n",
    "        self.weights = np.random.randn(x_train.shape[1])\n",
    "        self.bias = np.random.randn(1)\n",
    "        self.lr = lr\n",
    "        self.x_train = x_train\n",
    "        self.y_train = y_train\n",
    "        self.x_test = x_test\n",
    "        self.y_test = y_test\n",
    "        self.tr_losses = []\n",
    "        self.te_losses = []\n",
    "        \n",
    "    def activation(self, x):             # activation function i.e the sigmoid function\n",
    "        return 1 / (1 + np.exp(-x))      # returns the sigmoid value of x\n",
    "    \n",
    "    def gradient(self, x):               # gradiant of the sigmoid function\n",
    "        return self.activation(x) * (1 - self.activation(x))      # returns the gradiant of the sigmoid function\n",
    "    \n",
    "    def forward(self, x):\n",
    "        hidden_1 = np.dot(x, self.weights) + self.bias     # hidden layer 1\n",
    "        activate_1 = self.activation(hidden_1)             # activation of hidden layer 1\n",
    "        return activate_1\n",
    "    \n",
    "    def backward(self, x, y_true):                      # backpropagation\n",
    "        hidden_1 = np.dot(x, self.weights) + self.bias  # hidden layer 1\n",
    "        y_pred = self.forward(x)                        # prediction of the model\n",
    "        dl_pred = 2 * (y_pred - y_true)                 # derivative of the loss of the prediction\n",
    "        dpred_hidden = self.gradient(hidden_1)          # derivative of the predictions to the hidden layer\n",
    "        dhidden1_weights = x                            # weights of derivative of the hidden layer 1\n",
    "        dhidden1_bias = 1                               # bias of the derivative of the hidden layer 1\n",
    "        \n",
    "        dl_db = dl_pred * dpred_hidden * dhidden1_bias  # derivative of the loss to the bias\n",
    "        dl_dw = dl_pred * dpred_hidden * dhidden1_weights  # derivative of the loss to the weights\n",
    "        return dl_dw, dl_db\n",
    "    \n",
    "    def optimizer(self, dl_dw, dl_db):\n",
    "        self.weights = self.weights - self.lr * dl_dw\n",
    "        self.bias = self.bias - self.lr * dl_db      # optimizer function to update the weights and bias\n",
    "        \n",
    "    def train(self, Iterations):\n",
    "        for i in range(Iterations):\n",
    "            random_pos = np.random.randint(0, len(self.x_train))     # getting a random position of the training data\n",
    "            y_train_pred = self.forward(self.x_train[random_pos])    # getting the predicted value of the training data using forward propogation \n",
    "            loss = np.square(self.y_train[random_pos] - y_train_pred)    # calculating the loss of the model\n",
    "            self.tr_losses.append(loss)                             # appending the loss of the model to the train loss list\n",
    "            dl_dw, dl_db = self.backward(self.x_train[random_pos], self.y_train[random_pos])  # getting the derivative of the loss to the weights and bias\n",
    "            self.optimizer(dl_dw, dl_db)                            # optimizing the weights and bias\n",
    "            \n",
    "            loss_sum = 0\n",
    "            for j in range(len(self.x_test)):\n",
    "                y_test_pred = self.forward(self.x_test[j])          # getting the predicted value of the test data using forward propogation\n",
    "                loss_sum += np.square(self.y_test[j] - y_test_pred) # calculating the loss of the model on the test data\n",
    "            self.te_losses.append(loss_sum/len(self.x_test))      # appending the loss of the model on the test data to the test loss list\n",
    "        return \"Training Done\""
   ]
  },
  {
   "cell_type": "code",
   "execution_count": 7,
   "metadata": {},
   "outputs": [],
   "source": [
    "# initialized some hyper parameters learning rate and number of iterations\n",
    "lr = 0.1\n",
    "iters = 1000"
   ]
  },
  {
   "cell_type": "code",
   "execution_count": 8,
   "metadata": {},
   "outputs": [
    {
     "data": {
      "text/plain": [
       "'Training Done'"
      ]
     },
     "execution_count": 8,
     "metadata": {},
     "output_type": "execute_result"
    }
   ],
   "source": [
    "# create a model object using the class we created\n",
    "nn = NeuralNetworkFromScratch(lr, x_tr, y_train, x_te, y_test)\n",
    "\n",
    "nn.train(Iterations=iters)  # start the training of the model"
   ]
  },
  {
   "cell_type": "code",
   "execution_count": null,
   "metadata": {},
   "outputs": [],
   "source": [
    "te_loss = [i[0] for i in nn.te_losses]  # get the test loss values\n",
    "# te_loss"
   ]
  },
  {
   "cell_type": "code",
   "execution_count": 10,
   "metadata": {},
   "outputs": [
    {
     "data": {
      "text/plain": [
       "<Axes: >"
      ]
     },
     "execution_count": 10,
     "metadata": {},
     "output_type": "execute_result"
    },
    {
     "data": {
      "image/png": "[encoded data removed]",
      "text/plain": [
       "<Figure size 640x480 with 1 Axes>"
      ]
     },
     "metadata": {},
     "output_type": "display_data"
    }
   ],
   "source": [
    "sns.lineplot(x=list(range(len(nn.te_losses))), y=te_loss)  # plot the loss of the model on the test data"
   ]
  },
  {
   "cell_type": "code",
   "execution_count": 11,
   "metadata": {},
   "outputs": [],
   "source": [
    "total = x_te.shape[0]  # total number of test data  \n",
    "correct = 0           # number of correct predictions\n",
    "y_preds = []           # list to store the predictions   \n",
    "for i in range(total):\n",
    "    y_pred = np.round(nn.forward(x_te[i]))  # get the prediction of the model\n",
    "    y_preds.append(y_pred)         # append the prediction to the list\n",
    "    correct += 1 if y_pred == y_test[i] else 0  # check if the prediction is correct and increment the correct variable"
   ]
  },
  {
   "cell_type": "code",
   "execution_count": 12,
   "metadata": {},
   "outputs": [
    {
     "data": {
      "text/plain": [
       "0.8688524590163934"
      ]
     },
     "execution_count": 12,
     "metadata": {},
     "output_type": "execute_result"
    }
   ],
   "source": [
    "correct/total  # accuracy of the model"
   ]
  },
  {
   "cell_type": "code",
   "execution_count": 13,
   "metadata": {},
   "outputs": [
    {
     "data": {
      "text/plain": [
       "Counter({np.int64(1): 32, np.int64(0): 29})"
      ]
     },
     "execution_count": 13,
     "metadata": {},
     "output_type": "execute_result"
    }
   ],
   "source": [
    "from collections import Counter\n",
    "Counter(y_test)  # count the number of predictions of the model"
   ]
  },
  {
   "cell_type": "code",
   "execution_count": 14,
   "metadata": {},
   "outputs": [
    {
     "data": {
      "text/plain": [
       "0.5245901639344263"
      ]
     },
     "execution_count": 14,
     "metadata": {},
     "output_type": "execute_result"
    }
   ],
   "source": [
    "32/61    #baseline accuracy"
   ]
  },
  {
   "cell_type": "code",
   "execution_count": 15,
   "metadata": {},
   "outputs": [
    {
     "data": {
      "text/plain": [
       "array([[24,  5],\n",
       "       [ 3, 29]])"
      ]
     },
     "execution_count": 15,
     "metadata": {},
     "output_type": "execute_result"
    }
   ],
   "source": [
    "from sklearn.metrics import confusion_matrix\n",
    "confusion_matrix(y_test, y_preds)  # confusion matrix of the model"
   ]
  },
  {
   "cell_type": "code",
   "execution_count": null,
   "metadata": {},
   "outputs": [],
   "source": []
  }
 ],
 "metadata": {
  "kernelspec": {
   "display_name": "cuda_torch",
   "language": "python",
   "name": "python3"
  },
  "language_info": {
   "codemirror_mode": {
    "name": "ipython",
    "version": 3
   },
   "file_extension": ".py",
   "mimetype": "text/x-python",
   "name": "python",
   "nbconvert_exporter": "python",
   "pygments_lexer": "ipython3",
   "version": "3.12.3"
  }
 },
 "nbformat": 4,
 "nbformat_minor": 2
}
