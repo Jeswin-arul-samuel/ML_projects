{
 "cells": [
  {
   "cell_type": "code",
   "execution_count": 2,
   "id": "8babe642-b322-4198-b49a-46aa5c4e66f1",
   "metadata": {},
   "outputs": [],
   "source": [
    "import pandas as pd\n",
    "import polars as pl\n",
    "import matplotlib.pyplot as plt"
   ]
  },
  {
   "cell_type": "code",
   "execution_count": 4,
   "id": "a630fcd4-ec84-47de-8662-b24235386bf7",
   "metadata": {},
   "outputs": [
    {
     "data": {
      "text/html": [
       "<div><style>\n",
       ".dataframe > thead > tr,\n",
       ".dataframe > tbody > tr {\n",
       "  text-align: right;\n",
       "  white-space: pre-wrap;\n",
       "}\n",
       "</style>\n",
       "<small>shape: (5, 4)</small><table border=\"1\" class=\"dataframe\"><thead><tr><th>area</th><th>roomcount</th><th>buildingage</th><th>price</th></tr><tr><td>i64</td><td>i64</td><td>i64</td><td>i64</td></tr></thead><tbody><tr><td>180</td><td>5</td><td>10</td><td>510000</td></tr><tr><td>225</td><td>4</td><td>18</td><td>508000</td></tr><tr><td>260</td><td>3</td><td>2</td><td>548000</td></tr><tr><td>320</td><td>6</td><td>10</td><td>650000</td></tr><tr><td>335</td><td>4</td><td>9</td><td>628000</td></tr></tbody></table></div>"
      ],
      "text/plain": [
       "shape: (5, 4)\n",
       "┌──────┬───────────┬─────────────┬────────┐\n",
       "│ area ┆ roomcount ┆ buildingage ┆ price  │\n",
       "│ ---  ┆ ---       ┆ ---         ┆ ---    │\n",
       "│ i64  ┆ i64       ┆ i64         ┆ i64    │\n",
       "╞══════╪═══════════╪═════════════╪════════╡\n",
       "│ 180  ┆ 5         ┆ 10          ┆ 510000 │\n",
       "│ 225  ┆ 4         ┆ 18          ┆ 508000 │\n",
       "│ 260  ┆ 3         ┆ 2           ┆ 548000 │\n",
       "│ 320  ┆ 6         ┆ 10          ┆ 650000 │\n",
       "│ 335  ┆ 4         ┆ 9           ┆ 628000 │\n",
       "└──────┴───────────┴─────────────┴────────┘"
      ]
     },
     "execution_count": 4,
     "metadata": {},
     "output_type": "execute_result"
    }
   ],
   "source": [
    "df = pl.read_csv(\"housepricesdataset.csv\", separator = ';')\n",
    "df.head()"
   ]
  },
  {
   "cell_type": "code",
   "execution_count": 5,
   "id": "f42807ac-8f76-44cc-b980-6bdd4e8b1731",
   "metadata": {},
   "outputs": [
    {
     "data": {
      "text/plain": [
       "(8, 4)"
      ]
     },
     "execution_count": 5,
     "metadata": {},
     "output_type": "execute_result"
    }
   ],
   "source": [
    "df.shape"
   ]
  },
  {
   "cell_type": "code",
   "execution_count": null,
   "id": "2479562a-90ad-491a-a6f5-e623a1b7bacf",
   "metadata": {},
   "outputs": [],
   "source": []
  }
 ],
 "metadata": {
  "kernelspec": {
   "display_name": "Python 3 (ipykernel)",
   "language": "python",
   "name": "python3"
  },
  "language_info": {
   "codemirror_mode": {
    "name": "ipython",
    "version": 3
   },
   "file_extension": ".py",
   "mimetype": "text/x-python",
   "name": "python",
   "nbconvert_exporter": "python",
   "pygments_lexer": "ipython3",
   "version": "3.12.3"
  }
 },
 "nbformat": 4,
 "nbformat_minor": 5
}
